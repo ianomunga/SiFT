{
  "nbformat": 4,
  "nbformat_minor": 0,
  "metadata": {
    "colab": {
      "provenance": []
    },
    "kernelspec": {
      "name": "python3",
      "display_name": "Python 3"
    },
    "language_info": {
      "name": "python"
    }
  },
  "cells": [
    {
      "cell_type": "markdown",
      "source": [
        "# **Hadron Decomposition with the setScreen Algorithm for Targeted Particle Search in Quark-Gluon Plasmas**\n",
        "\n",
        "* Given that the quarks and gluons in a Quark-Gluon Plasma (QGP) are no longer bound to discrete particles but are *in a freely flowing state within the QGP's dense medium*, the [usual particle identification methods](https://iopscience.iop.org/article/10.1088/1742-6596/1085/4/042023/meta) involving re-creating 3D particle tracks from hits on the detectors' silicon screens or per-particle energy measurements break down.\n",
        "\n",
        "* As such, it would be more efficient *to use the unique compositions of energy signatures detectable within the charged QGP to catalog and characterise the specific hadrons contained in it*. To achieve this, we propose **the [Stress-Energy Tensor] (set)Screen algorithm.**\n",
        "\n",
        "* The setScreen algorithm uses the characteristic *stress energy tensors of known hadrons* like the various quarks, leptons and bosons to account for their energy signatures within any given charged plasma and to thus isolate any unknown hadrons by the energy signatures they exert within the QGP. **Charged plasmas can thus be analysed via a hadron decomposition process into known and unknown hadrons by their respective energy signatures as mediated by their stress-energy tensors.**\n",
        "\n",
        "* setScreen's hadron decomposition on charged plasmas can thus efficiently isolate any novel hadrons generated from HEP events from the wide-array of energy measurements taken at the point of collision. The fact that such hadron decomposition threads can be parallelised and scaled in relation to the available compute resources means that particle identification can scale efficiently with compute to help process the immense data that such HEP events generate."
      ],
      "metadata": {
        "id": "00vrDqooApqD"
      }
    },
    {
      "cell_type": "markdown",
      "source": [
        "## **Derived Operational Variables**\n",
        "Some brief definitions to help contextualise the ideas setScreen draws from to work:\n",
        "* **Hadrons**: Composite particles made up of quarks held together by gluons.\n",
        "* **Quarks**: Fundamental particles that make up hadrons, such as protons and neutrons.\n",
        "* **Gluons**: Particles that carry the strong force and bind quarks together within hadrons.\n",
        "* **Stress-Energy Tensor**: A mathematical object that describes the density and flux of energy and momentum in spacetime.\n",
        "* **Quark-Gluon Plasma**: An extremely hot and dense state of matter in which quarks and gluons are deconfined and free to move independently.\n",
        "* **High Energy Physics**: The study of fundamental particles and their interactions at very high energies.\n",
        "* **CERN**: The European Organization for Nuclear Research, a leading laboratory for particle physics research.\n",
        "* **LHC**: The Large Hadron Collider, the world's largest and most powerful particle accelerator, located at CERN.\n",
        "* **ALICE**: A Large Ion Collider Experiment, one of the main experiments at the LHC, designed to study the properties of the quark-gluon plasma.\n",
        "* **Topological Space**: A mathematical concept that describes a space and its properties, such as connectedness and continuity.\n",
        "* **P-adic Space**: A type of topological space that arises in number theory and has applications in physics.\n",
        "* **Standard Model**: The currently accepted theory that describes three of the four known fundamental forces (electromagnetic, weak, and strong interactions) and classifies all known elementary particles.\n"
      ],
      "metadata": {
        "id": "x8aKk8W0UN6Q"
      }
    },
    {
      "cell_type": "markdown",
      "source": [
        "## **Technical Implementation Steps**\n",
        "\n",
        "**Techstack**: Numpy, Numba, JAX, SciPy, Matplotlib & FFmpeg\n",
        "\n",
        "**Analytical Methods**: CP (Canonical Polyadic) Tensor Decomposition, Finite Element Analysis, MonteCarlo Tree Search\n",
        "\n",
        "Given the resultant Quark-Gluon Plasma resulting from the heavy-ion HEP events from the ALICE detector at CERN:\n",
        "* Tune the available measurement instruments for the following specific phenomenology in the QGP:\n",
        "- Energetic Charge\n",
        "- Mass Distributions of quantized hadrons\n",
        "- Momentum of quantized hadrons' motion\n",
        "* Construct discrete fields as topological spaces from these three sets of variables and super-impose them into a single, overall p-adic space\n",
        "* Model the variations across the 3 sets of variables' measurements across all the spatially-separated points of the field in the topology and over uniform time-steps throughout the lifespan of the QGP as the stress-energy tensors of each field\n",
        "* Assign each known stress-energy tensor a fundamental standard model component [electromagnetism, strongForce, weakForce, Higgs Field, known quantum mechanical effect, known gravitational effect]\n",
        "* Isolate each discrete field fluctuation involving all three fields as a quantized hadron and catalogue each hadron that matches a known hadron identity accordingly [as a quark, fermion or boson]\n",
        "* Isolate and catalogue all the remaining stress-energy tensors and hadrons that are unaccounted for as novel. If there are none, repeat the process on a new QGP\n",
        "\n",
        "Details about the data acquisition process from CERN's [OpenData](https://opendata.cern.ch/) portal as well the code release will be done here soon. In the meantime, queries about this project can be sent to [ianomunga@gmail.com]\n"
      ],
      "metadata": {
        "id": "X4KMqys-WNGW"
      }
    }
  ]
}